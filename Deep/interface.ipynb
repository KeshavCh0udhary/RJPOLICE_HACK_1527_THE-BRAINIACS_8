{
 "cells": [
  {
   "cell_type": "code",
   "execution_count": 11,
   "id": "ce288931-b8cf-4aca-bf58-458fef5efcc1",
   "metadata": {},
   "outputs": [
    {
     "ename": "ModuleNotFoundError",
     "evalue": "No module named 'model'",
     "output_type": "error",
     "traceback": [
      "\u001b[1;31m---------------------------------------------------------------------------\u001b[0m",
      "\u001b[1;31mModuleNotFoundError\u001b[0m                       Traceback (most recent call last)",
      "Cell \u001b[1;32mIn[11], line 7\u001b[0m\n\u001b[0;32m      4\u001b[0m \u001b[38;5;28;01mimport\u001b[39;00m \u001b[38;5;21;01mmagic\u001b[39;00m\n\u001b[0;32m      6\u001b[0m \u001b[38;5;66;03m# Assuming model and model2 are properly imported from their respective modules\u001b[39;00m\n\u001b[1;32m----> 7\u001b[0m \u001b[38;5;28;01mimport\u001b[39;00m \u001b[38;5;21;01mmodel\u001b[39;00m\u001b[38;5;21;01m.\u001b[39;00m\u001b[38;5;21;01mipynb\u001b[39;00m\n\u001b[0;32m      8\u001b[0m \u001b[38;5;28;01mimport\u001b[39;00m \u001b[38;5;21;01mmodel2\u001b[39;00m\u001b[38;5;21;01m.\u001b[39;00m\u001b[38;5;21;01mipynb\u001b[39;00m\n\u001b[0;32m     10\u001b[0m app \u001b[38;5;241m=\u001b[39m Flask(\u001b[38;5;18m__name__\u001b[39m)\n",
      "\u001b[1;31mModuleNotFoundError\u001b[0m: No module named 'model'"
     ]
    }
   ],
   "source": [
    "import os\n",
    "from flask import Flask, render_template, request, jsonify\n",
    "from werkzeug.utils import secure_filename\n",
    "import magic\n",
    "\n",
    "# Assuming model and model2 are properly imported from their respective modules\n",
    "import model.ipynb\n",
    "import model2.ipynb\n",
    "\n",
    "app = Flask(__name__)\n",
    "app.config['UPLOAD_FOLDER'] = 'uploads'  # Set a dedicated upload folder\n",
    "\n",
    "def check_file_type(file_path):\n",
    "    mime = magic.Magic(mime=True)  # Use mime=True for more accurate file type detection\n",
    "    file_type = mime.from_file(file_path)\n",
    "    return file_type\n",
    "\n",
    "@app.route('/')\n",
    "def index():\n",
    "    return render_template('home.html')\n",
    "\n",
    "@app.route('/detect', methods=['POST'])\n",
    "def detect():\n",
    "    try:\n",
    "        uploaded_file = request.files['file']\n",
    "        filename = secure_filename(uploaded_file.filename)\n",
    "        file_path = os.path.join(app.config['UPLOAD_FOLDER'], filename)\n",
    "        uploaded_file.save(file_path)\n",
    "\n",
    "        file_type = check_file_type(file_path)\n",
    "\n",
    "        if 'image' in file_type or 'video' in file_type:\n",
    "            result = mesonet_model.detect_deepfake(file_path)\n",
    "        elif 'audio' in file_type:\n",
    "            result = ml_model.detect_deepfake_audio(file_path)\n",
    "        else:\n",
    "            return jsonify({'error': 'Unsupported file type'}), 400  # Return a 400 Bad Request status code\n",
    "\n",
    "        os.remove(file_path)  # Remove the uploaded file\n",
    "        return jsonify({'result': result})\n",
    "\n",
    "    except Exception as e:\n",
    "        return jsonify({'error': str(e)}), 500  # Return a 500 Internal Server Error status code\n",
    "\n",
    "if __name__ == '__main__':\n",
    "    app.run(debug=True)"
   ]
  }
 ],
 "metadata": {
  "kernelspec": {
   "display_name": "Python 3 (ipykernel)",
   "language": "python",
   "name": "python3"
  },
  "language_info": {
   "codemirror_mode": {
    "name": "ipython",
    "version": 3
   },
   "file_extension": ".py",
   "mimetype": "text/x-python",
   "name": "python",
   "nbconvert_exporter": "python",
   "pygments_lexer": "ipython3",
   "version": "3.11.4"
  }
 },
 "nbformat": 4,
 "nbformat_minor": 5
}
