{
  "cells": [
    {
      "cell_type": "code",
      "execution_count": 1,
      "metadata": {
        "colab": {},
        "colab_type": "code",
        "id": "YjtnZQkTu6tX"
      },
      "outputs": [
        {
          "name": "stdout",
          "output_type": "stream",
          "text": [
            "Requirement already satisfied: opencv-python in c:\\users\\hp\\appdata\\local\\programs\\python\\python311\\lib\\site-packages (4.8.1.78)\n",
            "Requirement already satisfied: numpy>=1.21.2 in c:\\users\\hp\\appdata\\local\\programs\\python\\python311\\lib\\site-packages (from opencv-python) (1.26.2)\n",
            "Note: you may need to restart the kernel to use updated packages.\n"
          ]
        }
      ],
      "source": [
        "pip install opencv-python"
      ]
    },
    {
      "cell_type": "code",
      "execution_count": 4,
      "metadata": {},
      "outputs": [
        {
          "name": "stdout",
          "output_type": "stream",
          "text": [
            "10 frames extracted from ICC CWC Final_ IND vs AUS Live streaming on Disney+ Hotstar - Google Chrome 2023-11-19 22-05-35.mp4 and saved to C:\\\\Users\\\\hp\\\\deepfake\\\\trained_test data\\ICC CWC Final_ IND vs AUS Live streaming on Disney+ Hotstar - Google Chrome 2023-11-19 22-05-35\n",
            "10 frames extracted from ICC CWC Final_ IND vs AUS Live streaming on Disney+ Hotstar - Google Chrome 2023-11-19 22-05-51.mp4 and saved to C:\\\\Users\\\\hp\\\\deepfake\\\\trained_test data\\ICC CWC Final_ IND vs AUS Live streaming on Disney+ Hotstar - Google Chrome 2023-11-19 22-05-51\n"
          ]
        }
      ],
      "source": [
        "import cv2\n",
        "import os\n",
        "\n",
        "def extract_frames(input_folder, output_folder, num_frames=10, supported_formats=('.mp4', '.avi', '.mkv')):\n",
        "    \"\"\"Extracts a specified number of frames from each video in an input folder.\n",
        "\n",
        "    Args:\n",
        "        input_folder (str): Path to the input folder containing videos.\n",
        "        output_folder (str): Path to the output folder for saving extracted frames.\n",
        "        num_frames (int, optional): Number of frames to extract from each video. Defaults to 10.\n",
        "        supported_formats (tuple, optional): Supported video file extensions. Defaults to ('.mp4', '.avi', '.mkv').\n",
        "    \"\"\"\n",
        "\n",
        "    os.makedirs(output_folder, exist_ok=True)  # Create output folder if needed\n",
        "\n",
        "    for filename in os.listdir(input_folder):\n",
        "        if filename.endswith(supported_formats):\n",
        "            video_path = os.path.join(input_folder, filename)\n",
        "            video_name = os.path.splitext(filename)[0]\n",
        "            video_output_folder = os.path.join(output_folder, video_name)\n",
        "            os.makedirs(video_output_folder, exist_ok=True)\n",
        "\n",
        "            cap = cv2.VideoCapture(video_path)\n",
        "            total_frames = int(cap.get(cv2.CAP_PROP_FRAME_COUNT))\n",
        "            step = max(total_frames // num_frames, 1)\n",
        "\n",
        "            frame_count = 0\n",
        "            for frame_index in range(0, total_frames, step):\n",
        "                cap.set(cv2.CAP_PROP_POS_FRAMES, frame_index)  # Set frame position directly\n",
        "                ret, frame = cap.read()\n",
        "                if not ret:\n",
        "                    break\n",
        "\n",
        "                frame_count += 1\n",
        "                frame_filename = f\"{video_name}_frame_{frame_count:04d}.jpg\"\n",
        "                frame_path = os.path.join(video_output_folder, frame_filename)\n",
        "                cv2.imwrite(frame_path, frame)\n",
        "\n",
        "            cap.release()\n",
        "            print(f\"{num_frames} frames extracted from {filename} and saved to {video_output_folder}\")\n",
        "\n",
        "if __name__ == \"__main__\":\n",
        "    input_folder = r\"C:\\\\Users\\\\HP\\\\Downloads\\\\videos\"\n",
        "    output_folder = r\"C:\\\\Users\\\\hp\\\\deepfake\\\\trained_test data\"\n",
        "    extract_frames(input_folder, output_folder)\n"
      ]
    }
  ],
  "metadata": {
    "accelerator": "GPU",
    "colab": {
      "collapsed_sections": [],
      "name": "preprocessing.ipynb",
      "provenance": []
    },
    "kernelspec": {
      "display_name": "Python 3",
      "name": "python3"
    },
    "language_info": {
      "codemirror_mode": {
        "name": "ipython",
        "version": 3
      },
      "file_extension": ".py",
      "mimetype": "text/x-python",
      "name": "python",
      "nbconvert_exporter": "python",
      "pygments_lexer": "ipython3",
      "version": "3.11.4"
    }
  },
  "nbformat": 4,
  "nbformat_minor": 0
}
